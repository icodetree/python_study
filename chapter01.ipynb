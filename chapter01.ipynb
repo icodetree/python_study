{
  "nbformat": 4,
  "nbformat_minor": 0,
  "metadata": {
    "colab": {
      "provenance": [],
      "authorship_tag": "ABX9TyMJtBZaggNDMnOuebSfoj5W",
      "include_colab_link": true
    },
    "kernelspec": {
      "name": "python3",
      "display_name": "Python 3"
    },
    "language_info": {
      "name": "python"
    }
  },
  "cells": [
    {
      "cell_type": "markdown",
      "metadata": {
        "id": "view-in-github",
        "colab_type": "text"
      },
      "source": [
        "<a href=\"https://colab.research.google.com/github/icodetree/python_study/blob/main/chapter01.ipynb\" target=\"_parent\"><img src=\"https://colab.research.google.com/assets/colab-badge.svg\" alt=\"Open In Colab\"/></a>"
      ]
    },
    {
      "cell_type": "code",
      "execution_count": 1,
      "metadata": {
        "colab": {
          "base_uri": "https://localhost:8080/",
          "height": 107
        },
        "id": "aq9NnXrZMhaR",
        "outputId": "d904926e-6263-4be1-da81-e0c940e0ff45"
      },
      "outputs": [
        {
          "output_type": "stream",
          "name": "stderr",
          "text": [
            "Downloading...\n",
            "From: https://bit.ly/2eecMKZ\n",
            "To: /content/서울특별시교육청남산도서관 장서 대출목록 (2023년 11월).csv\n",
            "22.8kB [00:00, 608kB/s]\n"
          ]
        },
        {
          "output_type": "execute_result",
          "data": {
            "text/plain": [
              "'서울특별시교육청남산도서관 장서 대출목록 (2023년 11월).csv'"
            ],
            "application/vnd.google.colaboratory.intrinsic+json": {
              "type": "string"
            }
          },
          "metadata": {},
          "execution_count": 1
        }
      ],
      "source": [
        "import gdown\n",
        "gdown.download('https://bit.ly/2eecMKZ', '서울특별시교육청남산도서관 장서 대출목록 (2023년 11월).csv', quiet=False)"
      ]
    },
    {
      "cell_type": "code",
      "source": [],
      "metadata": {
        "colab": {
          "base_uri": "https://localhost:8080/"
        },
        "id": "dDwAmYDdRKU6",
        "outputId": "bf5c9d31-0328-4b4d-9afc-2c87c9eff552"
      },
      "execution_count": 8,
      "outputs": [
        {
          "output_type": "stream",
          "name": "stdout",
          "text": [
            "<html xmlns:fb=\"http://www.facebook.com/2008/fbml\">\n",
            "\n"
          ]
        }
      ]
    }
  ]
}